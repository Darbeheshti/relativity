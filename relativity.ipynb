{
  "nbformat": 4,
  "nbformat_minor": 0,
  "metadata": {
    "colab": {
      "provenance": [],
      "authorship_tag": "ABX9TyOUK9fwE8F111D4lT78CcVd",
      "include_colab_link": true
    },
    "kernelspec": {
      "name": "python3",
      "display_name": "Python 3"
    },
    "language_info": {
      "name": "python"
    }
  },
  "cells": [
    {
      "cell_type": "markdown",
      "metadata": {
        "id": "view-in-github",
        "colab_type": "text"
      },
      "source": [
        "<a href=\"https://colab.research.google.com/github/Darbeheshti/relativity/blob/main/relativity.ipynb\" target=\"_parent\"><img src=\"https://colab.research.google.com/assets/colab-badge.svg\" alt=\"Open In Colab\"/></a>"
      ]
    },
    {
      "cell_type": "code",
      "execution_count": 7,
      "metadata": {
        "id": "VJ9OcWJWZ8iZ"
      },
      "outputs": [],
      "source": [
        "import math"
      ]
    },
    {
      "cell_type": "markdown",
      "source": [
        "Twin paradox from A first course in general relativity"
      ],
      "metadata": {
        "id": "lbWphT-hbogY"
      }
    },
    {
      "cell_type": "code",
      "source": [
        "seconds_in_year=3600*24*365"
      ],
      "metadata": {
        "id": "rol6h0XRw4dn"
      },
      "execution_count": 18,
      "outputs": []
    },
    {
      "cell_type": "code",
      "source": [
        "Delta_t_prime=2.2*10**8\n",
        "v=.96"
      ],
      "metadata": {
        "id": "RfT9EK0jaVWy"
      },
      "execution_count": 13,
      "outputs": []
    },
    {
      "cell_type": "markdown",
      "source": [
        "Time dilation"
      ],
      "metadata": {
        "id": "z4mTw-41cHEE"
      }
    },
    {
      "cell_type": "code",
      "source": [
        "lorentz_factor=math.sqrt(1-v**2)\n"
      ],
      "metadata": {
        "id": "_ywBgfitanq5"
      },
      "execution_count": 22,
      "outputs": []
    },
    {
      "cell_type": "code",
      "source": [
        "lorentz_factor"
      ],
      "metadata": {
        "colab": {
          "base_uri": "https://localhost:8080/"
        },
        "id": "gP-I-Di6xdiU",
        "outputId": "b5141ec8-fe6f-41b7-d7e0-a007be378961"
      },
      "execution_count": 23,
      "outputs": [
        {
          "output_type": "execute_result",
          "data": {
            "text/plain": [
              "0.28"
            ]
          },
          "metadata": {},
          "execution_count": 23
        }
      ]
    },
    {
      "cell_type": "code",
      "source": [
        "1-v**2"
      ],
      "metadata": {
        "colab": {
          "base_uri": "https://localhost:8080/"
        },
        "id": "S4SNzfoDxqx0",
        "outputId": "cfd386f3-dd0f-4671-8c8f-76a9d9cd31b4"
      },
      "execution_count": 30,
      "outputs": [
        {
          "output_type": "execute_result",
          "data": {
            "text/plain": [
              "0.07840000000000003"
            ]
          },
          "metadata": {},
          "execution_count": 30
        }
      ]
    },
    {
      "cell_type": "code",
      "source": [
        "Delta_t=Delta_t_prime/math.sqrt(1-v**2)"
      ],
      "metadata": {
        "id": "Y0DkdxhzbG_K"
      },
      "execution_count": 31,
      "outputs": []
    },
    {
      "cell_type": "code",
      "source": [
        "Delta_t_prime/seconds_in_year"
      ],
      "metadata": {
        "colab": {
          "base_uri": "https://localhost:8080/"
        },
        "id": "_CMpTNcxbUBz",
        "outputId": "46f36c8f-658f-4251-bf2f-4a1798b8df8d"
      },
      "execution_count": 32,
      "outputs": [
        {
          "output_type": "execute_result",
          "data": {
            "text/plain": [
              "6.97615423642821"
            ]
          },
          "metadata": {},
          "execution_count": 32
        }
      ]
    },
    {
      "cell_type": "code",
      "source": [
        "Delta_t/seconds_in_year"
      ],
      "metadata": {
        "colab": {
          "base_uri": "https://localhost:8080/"
        },
        "id": "zmRwHfQ5bZ2G",
        "outputId": "4dade259-1f4c-4bea-bd0c-70a5361831e5"
      },
      "execution_count": 33,
      "outputs": [
        {
          "output_type": "execute_result",
          "data": {
            "text/plain": [
              "24.914836558672175"
            ]
          },
          "metadata": {},
          "execution_count": 33
        }
      ]
    }
  ]
}